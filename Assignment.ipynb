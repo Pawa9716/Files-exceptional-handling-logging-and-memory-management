{
  "nbformat": 4,
  "nbformat_minor": 0,
  "metadata": {
    "colab": {
      "provenance": []
    },
    "kernelspec": {
      "name": "python3",
      "display_name": "Python 3"
    },
    "language_info": {
      "name": "python"
    }
  },
  "cells": [
    {
      "cell_type": "markdown",
      "source": [
        "1.What is the difference between interpreted and compiled languages?\n",
        "  - The key difference between compiled and interpreted programming languages lies in how their code is translated and executed. Compiled languages translate the entire program into machine code (or bytecode) before execution, while interpreted languages translate and execute code line by line.\n",
        "\n",
        "2.What is exception handling in Python?\n",
        "  - In Python, exception handling is a mechanism to manage errors that occur during program execution. When an error, also known as an exception, is raised, the program's normal flow is interrupted. Exception handling allows developers to catch these exceptions and either handle them gracefully, preventing the program from crashing or continuing execution, or pass them on to be handled at a higher level.\n",
        "\n",
        "3.What is the purpose of the finally block in exception handling?\n",
        "  - The purpose of the finally block in exception handling is to ensure that a specific piece of code, usually cleanup code, is executed regardless of whether an exception occurs in the try block. It guarantees that crucial tasks like closing files, releasing resources, or logging events will happen, even if an exception is thrown and caught, or if the try block completes successfully.\n",
        "\n",
        "4.What is logging in Python?\n",
        "  - Python logging is a module that allows you to track events that occur while your program is running. You can use logging to record information about errors, warnings, and other events that occur during program execution. And logging is a useful tool for debugging, troubleshooting, and monitoring your program.\n",
        "\n",
        "5.What is the significance of the __del__ method in Python?\n",
        "  - The __del__ method is a special method in Python that is called when an object is about to be destroyed. It allows you to define specific cleanup actions that should be taken when an object is garbage collected.\n",
        "\n",
        "6.What is the difference between import and from ... import in Python?\n",
        "  - The difference between import and from import in Python is: import imports an entire code library. from import imports a specific member or members of the library.\n",
        "\n",
        "7.How can you handle multiple exceptions in Python?\n",
        "  - In Python, you can handle multiple exceptions using a try-except block with multiple except clauses or by using a single except clause with a tuple of exception types. When using multiple except clauses, each clause handles a specific exception type. If a single except clause with a tuple is used, it handles all exceptions listed in the tuple in the same way.\n",
        "\n",
        "8.What is the purpose of the with statement when handling files in Python?\n",
        "  - The purpose of the with statement in Python file handling is to streamline resource management, ensuring files are opened and closed automatically, and that the code within the with block executes even if exceptions are raised. This simplifies file operations and reduces the risk of resource leaks.\n",
        "\n",
        "9.What is the difference between multithreading and multiprocessing?\n",
        "  -Multithreading and multiprocessing are both techniques to execute multiple tasks concurrently, but they differ in how they achieve parallelism. Multithreading allows multiple threads to share the same memory space within a single process, while multiprocessing involves multiple processes with their own memory spaces.\n",
        "\n",
        "10.What are the advantages of using logging in a program?\n",
        "  - Logging offers significant advantages in software development, including improved debugging, performance monitoring, security enhancements, and compliance. It provides a structured way to track events, errors, and performance metrics, making it easier to identify and resolve issues. Furthermore, logs can be used for various purposes like event tracing, request tracing, and security auditing.\n",
        "\n",
        "11.What is memory management in Python?\n",
        "  - In Python, memory management is the process of allocating and deallocating memory for objects and data structures during program execution. Python handles this automatically, meaning developers generally don't need to manually allocate or free memory. This is done through a private heap, where all Python objects are stored, and the Python memory manager handles allocation and deallocation.\n",
        "\n",
        "12.What are the basic steps involved in exception handling in Python?\n",
        "  - Exception handling in Python involves using try, except, else, and finally blocks to gracefully handle errors that might occur during program execution. The try block contains code that might raise an exception. If an exception occurs, the except block handles it. The else block executes if no exception is raised in the try block. The finally block always executes, regardless of whether an exception occurred or not, and is often used for cleanup tasks.\n",
        "\n",
        "13.Why is memory management important in Python?\n",
        "  - Python uses automatic memory management, primarily relying on a private heap and object-specific allocators, ensuring efficient allocation and deallocation of memory for objects. This process is managed by Python's internal memory manager, which leverages reference counting and garbage collection to track and reclaim unused memory.\n",
        "\n",
        "14.What is the role of try and except in exception handling?\n",
        "  - In exception handling, the try and except blocks work together to gracefully manage errors that might occur during code execution. The try block contains the code that might potentially raise an exception, while the except block provides instructions for handling that exception if it occurs.\n",
        "\n",
        "15.How does Python's garbage collection system work?\n",
        "  - Python's garbage collection system automatically manages memory by finding and releasing memory occupied by objects that are no longer accessible by the program. It primarily uses reference counting and a generational garbage collector. Reference counting keeps track of object references, and when a count reaches zero, the object is deallocated. The generational garbage collector handles circular references that reference counting alone can't address.\n",
        "\n",
        "16.What is the purpose of the else block in exception handling?\n",
        "  - The else block in exception handling, often used in try...except...else structures, executes when no exceptions are raised within the try block. It's used to perform actions that should only run when the try block executes successfully, providing a way to handle positive outcomes after a potentially risky operation.\n",
        "\n",
        "17.What are the common logging levels in Python?\n",
        "  - Python logging supports multiple levels of severity, such as DEBUG , INFO , WARNING , ERROR , and CRITICAL , allowing you to categorize and filter log messages effectively. DEBUG: It is used for detailed information for diagnosing problems. It is typically used for development and debugging.\n",
        "\n",
        "18.What is the difference between os.fork() and multiprocessing in Python?\n",
        "  - ![image.png](data:image/png;base64,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)\n",
        "\n",
        "19.What is the importance of closing a file in Python?\n",
        "  - Closing files in Python is an essential practice that helps maintain data integrity, prevent resource leaks, and ensure the reliability of your applications. By mastering file handling techniques, you can write more robust and efficient Python code that effectively manages file resources.\n",
        "\n",
        "20.What is the difference between file.read() and file.readline() in Python?\n",
        "  - In Python, file.read() reads the entire contents of a file into a single string, while file.readline() reads and returns only a single line from the file as a string. readline() continues reading lines until there are no more lines in the file, and read() can be used with an argument to read a specific number of bytes.\n",
        "\n",
        "21.What is the logging module in Python used for?\n",
        "  - The logging module in Python is a tool used to record events that occur during the execution of a program. It's a powerful way to track errors, warnings, and informational messages, which is helpful for debugging, troubleshooting, and monitoring your application. Logging provides a structured way to keep a record of what's happening within your code, making it easier to understand the behavior of your application and identify potential issues\n",
        "\n",
        "22.What is the os module in Python used for in file handling?\n",
        "  - Python has a built-in os module with methods for interacting with the operating system, like creating files and directories, management of files and directories, input, output, environment variables, process management, etc.\n",
        "\n",
        "23.What are the challenges associated with memory management in Python?\n",
        "  - Python uses a combination of reference counting and garbage collection for memory management. Reference counting tracks how many times an object is referenced, and when the count reaches zero, the object is eligible for garbage collection. The garbage collector then identifies and deallocates memory occupied by those objects, preventing memory leaks.\n",
        "\n",
        "24.How do you raise an exception manually in Python?\n",
        "  - To manually raise an exception in Python, use the raise statement. Here is an example of how to use it: Copied! In this example, the calculate_payment function raises a ValueError exception if the payment_type is not either \"Visa\" or \"Mastercard\".\n",
        "\n",
        "25.Why is it important to use multithreading in certain applications?\n",
        "  - Multithreading is important in applications to improve performance, responsiveness, and resource utilization, especially in scenarios involving parallel execution or handling multiple requests simultaneously. It allows tasks to be executed concurrently, potentially speeding up overall application execution and improving user experience."
      ],
      "metadata": {
        "id": "RoCH5gZLDS1J"
      }
    },
    {
      "cell_type": "code",
      "execution_count": 1,
      "metadata": {
        "id": "jv5E0daiDPG8"
      },
      "outputs": [],
      "source": [
        "#How can you open a file for writing in Python and write a string to it?\n",
        "with open('example.txt', 'w') as file:\n",
        "    file.write('This is a sample string.')"
      ]
    },
    {
      "cell_type": "code",
      "source": [
        "#Write a Python program to read the contents of a file and print each line?\n",
        "with open('example.txt', 'r') as file:\n",
        "    for line in file:\n",
        "        print(line.strip())"
      ],
      "metadata": {
        "colab": {
          "base_uri": "https://localhost:8080/"
        },
        "id": "ZLFyVB38JzhO",
        "outputId": "c1780d62-9369-41ff-896e-f96c55c2fc2d"
      },
      "execution_count": 2,
      "outputs": [
        {
          "output_type": "stream",
          "name": "stdout",
          "text": [
            "This is a sample string.\n"
          ]
        }
      ]
    },
    {
      "cell_type": "code",
      "source": [
        "#How would you handle a case where the file doesn't exist while trying to open it for reading?\n",
        "try:\n",
        "    with open('example.txt', 'r') as file:\n",
        "        for line in file:\n",
        "            print(line.strip())\n",
        "except FileNotFoundError:\n",
        "    print(\"The file does not exist.\")"
      ],
      "metadata": {
        "colab": {
          "base_uri": "https://localhost:8080/"
        },
        "id": "jXeXr9e0J-sy",
        "outputId": "82c2b9c8-7047-4d5e-f00f-ecaed65de684"
      },
      "execution_count": 3,
      "outputs": [
        {
          "output_type": "stream",
          "name": "stdout",
          "text": [
            "This is a sample string.\n"
          ]
        }
      ]
    },
    {
      "cell_type": "code",
      "source": [
        "#Write a Python script that reads from one file and writes its content to another file?\n",
        "with open('example.txt', 'r') as source_file:\n",
        "    content = source_file.read()\n",
        "\n",
        "with open('output.txt', 'w') as destination_file:\n",
        "    destination_file.write(content)"
      ],
      "metadata": {
        "id": "iwo_tctcKVRs"
      },
      "execution_count": 4,
      "outputs": []
    },
    {
      "cell_type": "code",
      "source": [
        "# How would you catch and handle division by zero error in Python?\n",
        "try:\n",
        "    numerator = 10\n",
        "    denominator = 0\n",
        "    result = numerator / denominator\n",
        "except ZeroDivisionError:\n",
        "    print(\"Error: Division by zero is not allowed.\")\n",
        "else:\n",
        "    print(f\"Result: {result}\")"
      ],
      "metadata": {
        "colab": {
          "base_uri": "https://localhost:8080/"
        },
        "id": "xsuFUPUPKkJH",
        "outputId": "98cbb782-3a22-4baf-8e31-ed2fe69ca572"
      },
      "execution_count": 5,
      "outputs": [
        {
          "output_type": "stream",
          "name": "stdout",
          "text": [
            "Error: Division by zero is not allowed.\n"
          ]
        }
      ]
    },
    {
      "cell_type": "code",
      "source": [
        "# Write a Python program that logs an error message to a log file when a division by zero exception occurs?\n",
        "import logging\n",
        "\n",
        "# Configure logging\n",
        "logging.basicConfig(filename='error.log', level=logging.ERROR, format='%(asctime)s - %(message)s')\n",
        "\n",
        "try:\n",
        "    result = numerator / denominator\n",
        "except ZeroDivisionError:\n",
        "    logging.error(\"Division by zero error occurred.\")"
      ],
      "metadata": {
        "colab": {
          "base_uri": "https://localhost:8080/"
        },
        "id": "pnqvMX3JKrO8",
        "outputId": "2cb2afef-8950-425a-b373-0e76d82f2937"
      },
      "execution_count": 6,
      "outputs": [
        {
          "output_type": "stream",
          "name": "stderr",
          "text": [
            "ERROR:root:Division by zero error occurred.\n"
          ]
        }
      ]
    },
    {
      "cell_type": "code",
      "source": [
        "#How do you log information at different levels (INFO, ERROR, WARNING) in Python using the logging module?\n",
        "import logging\n",
        "\n",
        "# Configure logging\n",
        "logging.basicConfig(level=logging.DEBUG, format='%(asctime)s - %(levelname)s - %(message)s')\n",
        "\n",
        "# Log messages at different levels\n",
        "logging.info(\"This is an INFO message.\")\n",
        "logging.warning(\"This is a WARNING message.\")\n",
        "logging.error(\"This is an ERROR message.\")"
      ],
      "metadata": {
        "colab": {
          "base_uri": "https://localhost:8080/"
        },
        "id": "cfgRtKgpK3O2",
        "outputId": "8c1b8b63-7026-4bbc-83af-94f20ef8337e"
      },
      "execution_count": 7,
      "outputs": [
        {
          "output_type": "stream",
          "name": "stderr",
          "text": [
            "WARNING:root:This is a WARNING message.\n",
            "ERROR:root:This is an ERROR message.\n"
          ]
        }
      ]
    },
    {
      "cell_type": "code",
      "source": [
        "# Write a program to handle a file opening error using exception handling?\n",
        "try:\n",
        "    with open('non_existent_file.txt', 'r') as file:\n",
        "        content = file.read()\n",
        "except FileNotFoundError:\n",
        "    print(\"Error: The file does not exist.\")"
      ],
      "metadata": {
        "colab": {
          "base_uri": "https://localhost:8080/"
        },
        "id": "ItXNb9v9K-nK",
        "outputId": "e301d53c-a303-4095-8da4-c542e19c8a0c"
      },
      "execution_count": 8,
      "outputs": [
        {
          "output_type": "stream",
          "name": "stdout",
          "text": [
            "Error: The file does not exist.\n"
          ]
        }
      ]
    },
    {
      "cell_type": "code",
      "source": [
        "#How can you read a file line by line and store its content in a list in Python?\n",
        "with open('example.txt', 'r') as file:\n",
        "    lines = [line.strip() for line in file]"
      ],
      "metadata": {
        "id": "0proeaF1LITH"
      },
      "execution_count": 9,
      "outputs": []
    },
    {
      "cell_type": "code",
      "source": [
        "# How can you append data to an existing file in Python?\n",
        "with open('example.txt', 'a') as file:\n",
        "    file.write('\\nThis is an appended line.')"
      ],
      "metadata": {
        "id": "sBd5Z8ebLRT3"
      },
      "execution_count": 10,
      "outputs": []
    },
    {
      "cell_type": "code",
      "source": [
        "#Write a Python program that uses a try-except block to handle an error when attempting to access a dictionary key that doesn't exist?\n",
        "# Define a sample dictionary\n",
        "sample_dict = {'name': 'Alice', 'age': 25}\n",
        "\n",
        "# Attempt to access a key that doesn't exist\n",
        "try:\n",
        "    value = sample_dict['gender']\n",
        "except KeyError:\n",
        "    print(\"Error: The key 'gender' does not exist in the dictionary.\")"
      ],
      "metadata": {
        "colab": {
          "base_uri": "https://localhost:8080/"
        },
        "id": "QlWZ4jouLbRR",
        "outputId": "6a85dd34-377b-4b5c-b141-3891661ac765"
      },
      "execution_count": 11,
      "outputs": [
        {
          "output_type": "stream",
          "name": "stdout",
          "text": [
            "Error: The key 'gender' does not exist in the dictionary.\n"
          ]
        }
      ]
    },
    {
      "cell_type": "code",
      "source": [
        "#Write a program that demonstrates using multiple except blocks to handle different types of exceptions.\n",
        "try:\n",
        "    # Example operation that may raise exceptions\n",
        "    num = int(input(\"Enter a number: \"))\n",
        "    result = numerator / num\n",
        "    print(f\"Result: {result}\")\n",
        "except ZeroDivisionError:\n",
        "    print(\"Error: Division by zero is not allowed.\")\n",
        "except ValueError:\n",
        "    print(\"Error: Invalid input. Please enter a valid integer.\")\n",
        "except Exception as e:\n",
        "    print(f\"An unexpected error occurred: {e}\")"
      ],
      "metadata": {
        "colab": {
          "base_uri": "https://localhost:8080/"
        },
        "id": "onDkClDTLlwN",
        "outputId": "d3d01453-e884-4c55-84cd-50e7f319050f"
      },
      "execution_count": 12,
      "outputs": [
        {
          "output_type": "stream",
          "name": "stdout",
          "text": [
            "Enter a number: 12\n",
            "Result: 0.8333333333333334\n"
          ]
        }
      ]
    },
    {
      "cell_type": "code",
      "source": [
        "#How would you check if a file exists before attempting to read it in Python?\n",
        "import os\n",
        "\n",
        "file_path = 'example.txt'\n",
        "\n",
        "if os.path.exists(file_path):\n",
        "    with open(file_path, 'r') as file:\n",
        "        content = file.read()\n",
        "        print(content)\n",
        "else:\n",
        "    print(\"The file does not exist.\")"
      ],
      "metadata": {
        "colab": {
          "base_uri": "https://localhost:8080/"
        },
        "id": "oF_arUGfLvUw",
        "outputId": "0c0ef4c2-6009-49d0-9d93-33cb5299d74a"
      },
      "execution_count": 13,
      "outputs": [
        {
          "output_type": "stream",
          "name": "stdout",
          "text": [
            "This is a sample string.\n",
            "This is an appended line.\n"
          ]
        }
      ]
    },
    {
      "cell_type": "code",
      "source": [
        "#Write a program that uses the logging module to log both informational and error messages?\n",
        "import logging\n",
        "\n",
        "# Configure logging\n",
        "logging.basicConfig(filename='app.log', level=logging.DEBUG, format='%(asctime)s - %(levelname)s - %(message)s')\n",
        "\n",
        "# Log an informational message\n",
        "logging.info(\"This is an informational message.\")\n",
        "\n",
        "# Log an error message\n",
        "logging.error(\"This is an error message.\")"
      ],
      "metadata": {
        "colab": {
          "base_uri": "https://localhost:8080/"
        },
        "id": "S-o-BZ2PL3vR",
        "outputId": "33d038fb-53da-4419-c25f-e28b969b1f27"
      },
      "execution_count": 14,
      "outputs": [
        {
          "output_type": "stream",
          "name": "stderr",
          "text": [
            "ERROR:root:This is an error message.\n"
          ]
        }
      ]
    },
    {
      "cell_type": "code",
      "source": [
        "#Write a Python program that prints the content of a file and handles the case when the file is empty?\n",
        "try:\n",
        "    with open('example.txt', 'r') as file:\n",
        "        content = file.read()\n",
        "        if content.strip():  # Check if the file is not empty\n",
        "            print(content)\n",
        "        else:\n",
        "            print(\"The file is empty.\")\n",
        "except FileNotFoundError:\n",
        "    print(\"Error: The file does not exist.\")"
      ],
      "metadata": {
        "colab": {
          "base_uri": "https://localhost:8080/"
        },
        "id": "NiEiGerhMAdm",
        "outputId": "83c037ea-f70e-4170-e897-9fadc776dcaf"
      },
      "execution_count": 15,
      "outputs": [
        {
          "output_type": "stream",
          "name": "stdout",
          "text": [
            "This is a sample string.\n",
            "This is an appended line.\n"
          ]
        }
      ]
    },
    {
      "cell_type": "code",
      "source": [
        "#Demonstrate how to use memory profiling to check the memory usage of a small program.\n",
        "from memory_profiler import profile\n",
        "\n",
        "# Install memory_profiler if not already installed\n",
        "# !pip install memory_profiler\n",
        "\n",
        "\n",
        "@profile\n",
        "def small_program():\n",
        "    # Example program\n",
        "    data = [i for i in range(100000)]  # Create a list of numbers\n",
        "    total = sum(data)  # Calculate the sum of the list\n",
        "    return total\n",
        "\n",
        "if __name__ == \"__main__\":\n",
        "    result = small_program()\n",
        "    print(f\"Result: {result}\")"
      ],
      "metadata": {
        "colab": {
          "base_uri": "https://localhost:8080/",
          "height": 403
        },
        "id": "KbrDGC5PMHLq",
        "outputId": "ebba89d3-8246-4f87-9da3-6e7f2ae4bbd0"
      },
      "execution_count": 16,
      "outputs": [
        {
          "output_type": "error",
          "ename": "ModuleNotFoundError",
          "evalue": "No module named 'memory_profiler'",
          "traceback": [
            "\u001b[0;31m---------------------------------------------------------------------------\u001b[0m",
            "\u001b[0;31mModuleNotFoundError\u001b[0m                       Traceback (most recent call last)",
            "\u001b[0;32m<ipython-input-16-ac3eaf5c3d4a>\u001b[0m in \u001b[0;36m<cell line: 0>\u001b[0;34m()\u001b[0m\n\u001b[1;32m      1\u001b[0m \u001b[0;31m#Demonstrate how to use memory profiling to check the memory usage of a small program.\u001b[0m\u001b[0;34m\u001b[0m\u001b[0;34m\u001b[0m\u001b[0m\n\u001b[0;32m----> 2\u001b[0;31m \u001b[0;32mfrom\u001b[0m \u001b[0mmemory_profiler\u001b[0m \u001b[0;32mimport\u001b[0m \u001b[0mprofile\u001b[0m\u001b[0;34m\u001b[0m\u001b[0;34m\u001b[0m\u001b[0m\n\u001b[0m\u001b[1;32m      3\u001b[0m \u001b[0;34m\u001b[0m\u001b[0m\n\u001b[1;32m      4\u001b[0m \u001b[0;31m# Install memory_profiler if not already installed\u001b[0m\u001b[0;34m\u001b[0m\u001b[0;34m\u001b[0m\u001b[0m\n\u001b[1;32m      5\u001b[0m \u001b[0;31m# !pip install memory_profiler\u001b[0m\u001b[0;34m\u001b[0m\u001b[0;34m\u001b[0m\u001b[0m\n",
            "\u001b[0;31mModuleNotFoundError\u001b[0m: No module named 'memory_profiler'",
            "",
            "\u001b[0;31m---------------------------------------------------------------------------\u001b[0;32m\nNOTE: If your import is failing due to a missing package, you can\nmanually install dependencies using either !pip or !apt.\n\nTo view examples of installing some common dependencies, click the\n\"Open Examples\" button below.\n\u001b[0;31m---------------------------------------------------------------------------\u001b[0m\n"
          ],
          "errorDetails": {
            "actions": [
              {
                "action": "open_url",
                "actionText": "Open Examples",
                "url": "/notebooks/snippets/importing_libraries.ipynb"
              }
            ]
          }
        }
      ]
    },
    {
      "cell_type": "code",
      "source": [
        "#Write a Python program to create and write a list of numbers to a file, one number per line?\n",
        "numbers = [1, 2, 3, 4, 5]  # List of numbers to write to the file\n",
        "\n",
        "with open('numbers.txt', 'w') as file:\n",
        "    for number in numbers:\n",
        "        file.write(f\"{number}\\n\")"
      ],
      "metadata": {
        "id": "ILtmWd9BMSUS"
      },
      "execution_count": 17,
      "outputs": []
    },
    {
      "cell_type": "code",
      "source": [
        "#How would you implement a basic logging setup that logs to a file with rotation after 1MB?\n",
        "import logging\n",
        "from logging.handlers import RotatingFileHandler\n",
        "\n",
        "# Configure logging with rotation\n",
        "log_file = 'rotating_log.log'\n",
        "handler = RotatingFileHandler(log_file, maxBytes=1_000_000, backupCount=5)  # Rotate after 1MB, keep 5 backups\n",
        "logging.basicConfig(\n",
        "    level=logging.DEBUG,\n",
        "    format='%(asctime)s - %(levelname)s - %(message)s',\n",
        "    handlers=[handler]\n",
        ")\n",
        "\n",
        "# Example log messages\n",
        "logging.info(\"This is an INFO message.\")\n",
        "logging.warning(\"This is a WARNING message.\")\n",
        "logging.error(\"This is an ERROR message.\")"
      ],
      "metadata": {
        "colab": {
          "base_uri": "https://localhost:8080/"
        },
        "id": "XUZQZhd0Mk4u",
        "outputId": "f9fc45ac-327a-4c9f-b780-15c034943455"
      },
      "execution_count": 18,
      "outputs": [
        {
          "output_type": "stream",
          "name": "stderr",
          "text": [
            "WARNING:root:This is a WARNING message.\n",
            "ERROR:root:This is an ERROR message.\n"
          ]
        }
      ]
    },
    {
      "cell_type": "code",
      "source": [
        "#Write a program that handles both IndexError and KeyError using a try-except block?\n",
        "try:\n",
        "    # Attempt to access an invalid index in a list\n",
        "    sample_list = [1, 2, 3]\n",
        "    print(sample_list[5])  # This will raise an IndexError\n",
        "\n",
        "    # Attempt to access a non-existent key in a dictionary\n",
        "    print(sample_dict['gender'])  # This will raise a KeyError\n",
        "except IndexError:\n",
        "    print(\"Error: List index out of range.\")\n",
        "except KeyError:\n",
        "    print(\"Error: The specified key does not exist in the dictionary.\")"
      ],
      "metadata": {
        "colab": {
          "base_uri": "https://localhost:8080/"
        },
        "id": "wC7z64e2MuTP",
        "outputId": "fb866fc0-bdd4-4786-c524-2ee79f3fbde7"
      },
      "execution_count": 19,
      "outputs": [
        {
          "output_type": "stream",
          "name": "stdout",
          "text": [
            "Error: List index out of range.\n"
          ]
        }
      ]
    },
    {
      "cell_type": "code",
      "source": [
        "#How would you open a file and read its contents using a context manager in Python?\n",
        "with open('example.txt', 'r') as file:\n",
        "    content = file.read()\n",
        "    print(content)"
      ],
      "metadata": {
        "colab": {
          "base_uri": "https://localhost:8080/"
        },
        "id": "UgUJHhaYM3Pe",
        "outputId": "878ab101-b7ee-44b1-a3a2-199cedb468cb"
      },
      "execution_count": 20,
      "outputs": [
        {
          "output_type": "stream",
          "name": "stdout",
          "text": [
            "This is a sample string.\n",
            "This is an appended line.\n"
          ]
        }
      ]
    },
    {
      "cell_type": "code",
      "source": [
        "#Write a Python program that reads a file and prints the number of occurrences of a specific word?\n",
        "def count_word_occurrences(file_path, word):\n",
        "    try:\n",
        "        with open(file_path, 'r') as file:\n",
        "            content = file.read()\n",
        "            word_count = content.lower().split().count(word.lower())\n",
        "            print(f\"The word '{word}' occurs {word_count} times in the file.\")\n",
        "    except FileNotFoundError:\n",
        "        print(\"Error: The file does not exist.\")\n",
        "\n",
        "# Example usage\n",
        "count_word_occurrences('example.txt', 'sample')"
      ],
      "metadata": {
        "colab": {
          "base_uri": "https://localhost:8080/"
        },
        "id": "ZfxQzFM8M-r1",
        "outputId": "f200c61e-c149-4d8d-f88e-32c6ef795fb0"
      },
      "execution_count": 21,
      "outputs": [
        {
          "output_type": "stream",
          "name": "stdout",
          "text": [
            "The word 'sample' occurs 1 times in the file.\n"
          ]
        }
      ]
    },
    {
      "cell_type": "code",
      "source": [
        "#How can you check if a file is empty before attempting to read its contents?\n",
        "import os\n",
        "\n",
        "file_path = 'example.txt'\n",
        "\n",
        "if os.path.exists(file_path):\n",
        "    if os.path.getsize(file_path) == 0:\n",
        "        print(\"The file is empty.\")\n",
        "    else:\n",
        "        with open(file_path, 'r') as file:\n",
        "            content = file.read()\n",
        "            print(content)\n",
        "else:\n",
        "    print(\"The file does not exist.\")"
      ],
      "metadata": {
        "colab": {
          "base_uri": "https://localhost:8080/"
        },
        "id": "vHpiCXT3NIl1",
        "outputId": "c036b905-909a-4d8a-c997-3c1139dbe4a3"
      },
      "execution_count": 22,
      "outputs": [
        {
          "output_type": "stream",
          "name": "stdout",
          "text": [
            "This is a sample string.\n",
            "This is an appended line.\n"
          ]
        }
      ]
    },
    {
      "cell_type": "code",
      "source": [
        "#Write a Python program that writes to a log file when an error occurs during file handling?\n",
        "import logging\n",
        "\n",
        "# Configure logging\n",
        "logging.basicConfig(filename='file_handling_errors.log', level=logging.ERROR, format='%(asctime)s - %(message)s')\n",
        "\n",
        "try:\n",
        "    # Attempt to open a non-existent file\n",
        "    with open('non_existent_file.txt', 'r') as file:\n",
        "        content = file.read()\n",
        "except FileNotFoundError as e:\n",
        "    logging.error(f\"FileNotFoundError: {e}\")\n",
        "except Exception as e:\n",
        "    logging.error(f\"An unexpected error occurred: {e}\")"
      ],
      "metadata": {
        "colab": {
          "base_uri": "https://localhost:8080/"
        },
        "id": "tLvoSzhXNQWv",
        "outputId": "a76c44c6-fef4-44e6-bbe0-5ce0fc6a786a"
      },
      "execution_count": 23,
      "outputs": [
        {
          "output_type": "stream",
          "name": "stderr",
          "text": [
            "ERROR:root:FileNotFoundError: [Errno 2] No such file or directory: 'non_existent_file.txt'\n"
          ]
        }
      ]
    },
    {
      "cell_type": "code",
      "source": [],
      "metadata": {
        "id": "w6SEc37xNYpE"
      },
      "execution_count": null,
      "outputs": []
    }
  ]
}